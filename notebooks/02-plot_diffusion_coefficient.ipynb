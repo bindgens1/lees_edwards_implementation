{
 "cells": [
  {
   "cell_type": "code",
   "execution_count": null,
   "metadata": {},
   "outputs": [],
   "source": [
    "#import standard libraries\n",
    "\n",
    "import numpy as np\n",
    "import matplotlib.pyplot as plt\n",
    "import matplotlib\n",
    "matplotlib.rcParams['xtick.labelsize']=20\n",
    "matplotlib.rcParams['ytick.labelsize']=20\n",
    "matplotlib.rcParams['font.size']=25\n",
    "matplotlib.rcParams['legend.fontsize']=20\n",
    "matplotlib.rcParams['axes.labelsize']=20\n",
    "matplotlib.rcParams['text.latex.preamble']=[r'\\usepackage{bm}', r'\\usepackage{textgreek}', r'\\usepackage{sfmath}', r'\\usepackage{siunitx}', r'\\sisetup{per-mode=reciprocal}    ', r'\\DeclareSIUnit\\Molar{M}']\n",
    "matplotlib.rc('text',usetex=True)"
   ]
  },
  {
   "cell_type": "code",
   "execution_count": null,
   "metadata": {},
   "outputs": [],
   "source": [
    "#data_1 =  np.load('diffcoeff_50454376.npy')\n",
    "#data_2 =  np.load('diffcoeff_50454377.npy')\n",
    "#data_3 =  np.load('diffcoeff_50454378.npy')\n",
    "\n",
    "data_1 =  np.load('diffcoeff_50628659.npy')\n",
    "data_2 =  np.load('diffcoeff_50630218.npy')\n",
    "data_3 =  np.load('diffcoeff_50630219.npy')\n",
    "\n",
    "print(np.shape(data_1))\n",
    "print(data_1[2,:])"
   ]
  },
  {
   "cell_type": "code",
   "execution_count": null,
   "metadata": {},
   "outputs": [],
   "source": [
    "#Averaging of the data\n",
    "\n",
    "rep = data_1[1,:]\n",
    "\n",
    "\n",
    "all_data = np.array([data_1[2,:], data_2[2,:], data_3[2,:]])\n",
    "msd_traj_m = np.mean(all_data, axis=0)\n",
    "msd_traj_s = np.std(all_data, axis=0, ddof=1)\n",
    "\n",
    "all_data = np.array([data_1[3,:], data_2[3,:], data_3[3,:]])\n",
    "msd_m = np.mean(all_data, axis=0)\n",
    "msd_s = np.std(all_data, axis=0, ddof=1)\n",
    "               \n",
    "print(msd_m)\n",
    "print(msd_s)"
   ]
  },
  {
   "cell_type": "code",
   "execution_count": null,
   "metadata": {},
   "outputs": [],
   "source": [
    "plt.figure(figsize=(15,10))\n",
    "    \n",
    "selection = [0, 5, 10, 15, 20, 25, 30, 35]\n",
    "selection = np.array(selection)\n",
    "\n",
    "ax1 = plt.subplot(121)\n",
    "ax2 = plt.subplot(122)\n",
    "\n",
    "for i in range(5):\n",
    "    ax1.errorbar(rep[selection], msd_traj_m[selection], yerr=msd_traj_s[selection])\n",
    "    ax2.errorbar(rep[selection], msd_m[selection], yerr=msd_s[selection])\n",
    "    selection += 1\n",
    "\n",
    "size = 20\n",
    "\n",
    "ax1.set_title(\"Via trajectory\", fontsize = size)\n",
    "ax1.set_xlabel(\"repulsive force $a$\", fontsize = size)\n",
    "ax1.set_ylabel(\"diffusion coefficient\", fontsize = size)\n",
    "\n",
    "ax2.set_title(\"Via Correlator\", fontsize = size)\n",
    "ax2.set_xlabel(\"repulsive force $a$\", fontsize = size)\n",
    "ax2.set_ylabel(\"diffusion coefficient\", fontsize = size)\n",
    "\n",
    "plt.tight_layout()\n",
    "#plt.savefig(\"diff_msd.pdf\")"
   ]
  },
  {
   "cell_type": "code",
   "execution_count": null,
   "metadata": {},
   "outputs": [],
   "source": [
    "plt.figure(figsize=(2*3.375,2*3.375))\n",
    "    \n",
    "selection = [0, 5, 10, 15, 20, 25, 30, 35]\n",
    "rho = [3, 4, 5, 6, 7]\n",
    "selection = np.array(selection)\n",
    "\n",
    "ax1 = plt.subplot(111)\n",
    "\n",
    "for i in range(5):\n",
    "    ax1.errorbar(rep[selection], msd_m[selection], yerr=msd_s[selection], \n",
    "                 marker='o', \n",
    "                 linestyle=':', \n",
    "                 #linewidth=0.0, \n",
    "                 label = r\"$\\rho =$\" + str(rho[i]))\n",
    "    selection += 1\n",
    "\n",
    "size = 20\n",
    "\n",
    "ax1.set_xlabel(\"repulsive force $a_{ij}$\", fontsize = size)\n",
    "ax1.set_ylabel(\"diffusion coefficient $D$\", fontsize = size)\n",
    "ax1.legend(fontsize=size)\n",
    "\n",
    "plt.tight_layout()\n",
    "plt.savefig(\"diff_msd.pdf\")"
   ]
  },
  {
   "cell_type": "code",
   "execution_count": null,
   "metadata": {},
   "outputs": [],
   "source": []
  }
 ],
 "metadata": {
  "kernelspec": {
   "display_name": "Python 3",
   "language": "python",
   "name": "python3"
  },
  "language_info": {
   "codemirror_mode": {
    "name": "ipython",
    "version": 3
   },
   "file_extension": ".py",
   "mimetype": "text/x-python",
   "name": "python",
   "nbconvert_exporter": "python",
   "pygments_lexer": "ipython3",
   "version": "3.7.9"
  }
 },
 "nbformat": 4,
 "nbformat_minor": 4
}
