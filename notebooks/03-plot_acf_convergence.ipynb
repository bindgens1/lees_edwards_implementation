{
 "cells": [
  {
   "cell_type": "code",
   "execution_count": 1,
   "metadata": {},
   "outputs": [
    {
     "name": "stderr",
     "output_type": "stream",
     "text": [
      "/opt/local/Library/Frameworks/Python.framework/Versions/3.7/lib/python3.7/site-packages/ipykernel_launcher.py:15: MatplotlibDeprecationWarning: Support for setting the 'text.latex.preamble' or 'pgf.preamble' rcParam to a list of strings is deprecated since 3.3 and will be removed two minor releases later; set it to a single string instead.\n",
      "  from ipykernel import kernelapp as app\n"
     ]
    }
   ],
   "source": [
    "#import standard libraries\n",
    "\n",
    "import numpy as np\n",
    "import matplotlib.pyplot as plt\n",
    "import tidynamics as td\n",
    "from scipy.optimize import curve_fit\n",
    "from scipy.integrate import cumtrapz\n",
    "\n",
    "import matplotlib\n",
    "matplotlib.rcParams['xtick.labelsize']=20\n",
    "matplotlib.rcParams['ytick.labelsize']=20\n",
    "matplotlib.rcParams['font.size']=15\n",
    "matplotlib.rcParams['legend.fontsize']=15\n",
    "matplotlib.rcParams['axes.labelsize']=15\n",
    "matplotlib.rcParams['text.latex.preamble']=[r'\\usepackage{bm}', r'\\usepackage{textgreek}', r'\\usepackage{sfmath}', r'\\usepackage{siunitx}', r'\\sisetup{per-mode=reciprocal}    ', r'\\DeclareSIUnit\\Molar{M}']\n",
    "matplotlib.rc('text',usetex=True)"
   ]
  },
  {
   "cell_type": "code",
   "execution_count": 2,
   "metadata": {},
   "outputs": [],
   "source": [
    "job_name = '50507548'                          # '50507546', '50507547', '50507548'\n",
    "data_dir = '/Volumes/_work/genius/scratch/'"
   ]
  },
  {
   "cell_type": "code",
   "execution_count": 3,
   "metadata": {},
   "outputs": [],
   "source": [
    "def exp_fit(t, p0, p1):\n",
    "    return p0 * (1-np.exp(-p1*t))"
   ]
  },
  {
   "cell_type": "code",
   "execution_count": 14,
   "metadata": {},
   "outputs": [
    {
     "name": "stdout",
     "output_type": "stream",
     "text": [
      "6.0 25.0\n"
     ]
    },
    {
     "name": "stderr",
     "output_type": "stream",
     "text": [
      "/opt/local/Library/Frameworks/Python.framework/Versions/3.7/lib/python3.7/site-packages/ipykernel_launcher.py:100: MatplotlibDeprecationWarning: Adding an axes using the same arguments as a previous axes currently reuses the earlier instance.  In a future version, a new instance will always be created and returned.  Meanwhile, this warning can be suppressed, and the future behavior ensured, by passing a unique label to each axes instance.\n",
      "/opt/local/Library/Frameworks/Python.framework/Versions/3.7/lib/python3.7/site-packages/ipykernel_launcher.py:107: MatplotlibDeprecationWarning: Adding an axes using the same arguments as a previous axes currently reuses the earlier instance.  In a future version, a new instance will always be created and returned.  Meanwhile, this warning can be suppressed, and the future behavior ensured, by passing a unique label to each axes instance.\n"
     ]
    },
    {
     "data": {
      "image/png": "[encoded data removed]",
      "text/plain": [
       "<Figure size 972x364.5 with 3 Axes>"
      ]
     },
     "metadata": {
      "needs_background": "light"
     },
     "output_type": "display_data"
    }
   ],
   "source": [
    "time = np.arange(0.0, 500000*0.005*10, 10*0.005)\n",
    "samples = np.arange(len(time), 0, -1)\n",
    "cutoff = 5000\n",
    "limit = 2.0\n",
    "\n",
    "plt.figure(figsize=(4*3.375, 1.5*3.375))\n",
    "\n",
    "# Here we are plotting the figure that's shown in the paper\n",
    "for i in [8]:\n",
    "    j = i+1\n",
    "    \n",
    "    with open('../parameter_files/params_dpd.csv') as f:\n",
    "        line = f.readlines()[j]\n",
    "        line = line.split(',')\n",
    "        \n",
    "    rho, a_ij = float(line[0]), float(line[1])\n",
    "    print(rho,a_ij)\n",
    "    \n",
    "    l = (10000/rho) ** (1/3)\n",
    "    vol = 10000/rho\n",
    "    eta_theo = 2*np.pi*4.5*rho**2/1575\n",
    "    \n",
    "    #Here we do the calculation by hand using tidynamics\n",
    "    \n",
    "    kin_stress = -1.0 * np.genfromtxt(\n",
    "        data_dir + 'dpd_visc_' + job_name + '[' + str(j) +']/kin_stress.txt')\n",
    "    \n",
    "    old_stress = -1.0 * np.genfromtxt(\n",
    "        data_dir + 'dpd_visc_' + job_name + '[' + str(j) +']/old_stress.txt')\n",
    "    \n",
    "    dpd_stress = -1.0 * np.genfromtxt(\n",
    "        data_dir + 'dpd_visc_' + job_name + '[' + str(j) +']/dpd_stress.txt')\n",
    "    \n",
    "    kin_stress_acf = td.acf(kin_stress)\n",
    "    old_stress_acf = td.acf(old_stress)\n",
    "    dpd_stress_acf = td.acf(dpd_stress)\n",
    "    \n",
    "    kin_stress_int = cumtrapz(kin_stress_acf, x = time, initial = 0)\n",
    "    old_stress_int = cumtrapz(old_stress_acf, x = time, initial = 0)\n",
    "    dpd_stress_int = cumtrapz(dpd_stress_acf, x = time, initial = 0)\n",
    "    \n",
    "    temp = old_stress_int\n",
    "    \n",
    "    kin_visc, pcov = curve_fit(exp_fit, time[:cutoff], kin_stress_int[:cutoff], sigma=1/np.sqrt(samples[:cutoff]))\n",
    "    old_visc, pcov = curve_fit(exp_fit, time[:cutoff], old_stress_int[:cutoff], sigma=1/np.sqrt(samples[:cutoff]))\n",
    "    dpd_visc, pcov = curve_fit(exp_fit, time[:cutoff], dpd_stress_int[:cutoff], sigma=1/np.sqrt(samples[:cutoff]))\n",
    "    \n",
    "    ax1 = plt.subplot(131, rasterized=True)\n",
    "    ax1.set_title('Kinetic stress', x=0.5, y=1.1)\n",
    "    ax1.semilogx(time, kin_stress_int, 'o', markersize='3', color='tab:green', label = 'ACF tidynamics')\n",
    "    #ax1.semilogx(time, exp_fit(time, *kin_visc), '--', color='tab:green', label = 'Fit to ACF tidynamics')\n",
    "    ax1.axvline(limit, color='tab:red')\n",
    "    ax1.set_xlim(time[1], 1e2)\n",
    "    ax1.set_ylim(0, 1.5*kin_visc[0])\n",
    "    #ax1.legend(loc='upper left')\n",
    "    ax1.set_xlabel('time')\n",
    "    ax1.set_ylabel('Integral of stress ACF')\n",
    "    ax1.ticklabel_format(axis='y', style='sci', scilimits=(0,0))\n",
    "    \n",
    "    idx = np.searchsorted(time, limit)\n",
    "    ax1.axhline(kin_stress_int[idx], color='tab:red')\n",
    "    \n",
    "    ax2 = plt.subplot(132, rasterized=True)\n",
    "    ax2.set_title('Conservative stress', x=0.5, y=1.1)\n",
    "    ax2.semilogx(time, old_stress_int, 'o', markersize='3', color='tab:green', label = 'ACF tidynamics')\n",
    "    ax2.axvline(limit, color='tab:red')\n",
    "    ax2.ticklabel_format(axis='y', style='sci', scilimits=(0,0))\n",
    "    ax2.set_xlim(time[1], 1e2)\n",
    "    ax2.set_xlabel('time')\n",
    "    \n",
    "    ax3 = plt.subplot(133, rasterized=True)\n",
    "    ax3.set_title('Dissipative stress', x=0.5, y=1.1)\n",
    "    ax3.semilogx(time, dpd_stress_int, 'o', markersize='3', color='tab:green', label = 'ACF tidynamics', rasterized=True)\n",
    "    ax3.ticklabel_format(axis='y', style='sci', scilimits=(0,0))\n",
    "    ax3.set_xlim(0.9e-3, 1e2)\n",
    "    ax3.set_xlabel('time')\n",
    "    \n",
    "    # Here we use the correlated data from the Espresso correlator\n",
    "    # The kinetic component can't be extracted here\n",
    "    \n",
    "    old_stress = np.load(\n",
    "        data_dir + 'dpd_visc_' + job_name + '[' + str(j) +']/dpd_sample_old_stress_acf.npy')\n",
    "    \n",
    "    old_stress_avg = (old_stress[:,3] + old_stress[:,4] + old_stress[:,7]) / 3.\n",
    "    \n",
    "    old_stress_int = cumtrapz(old_stress_avg, x = old_stress[:,0], initial = 0)\n",
    "    old_visc, pcov = curve_fit(exp_fit, old_stress[:100,0], old_stress_int[:100], sigma=1/np.sqrt(old_stress[:100,1]))\n",
    "    \n",
    "    dpd_stress = np.load(\n",
    "        data_dir + 'dpd_visc_' + job_name + '[' + str(j) +']/dpd_sample_dpd_stress_acf.npy')\n",
    "    \n",
    "    dpd_stress_avg = (dpd_stress[:,3] + dpd_stress[:,4] + dpd_stress[:,7]) / 3.\n",
    "    \n",
    "    dpd_stress_int = cumtrapz(dpd_stress_avg, x = dpd_stress[:,0], initial = 0)\n",
    "    dpd_visc, pcov = curve_fit(exp_fit, dpd_stress[:65,0], dpd_stress_int[:65], sigma=1/np.sqrt(dpd_stress[:65,1]))\n",
    "    \n",
    "    ax2 = plt.subplot(132, rasterized=True)\n",
    "    ax2.semilogx(old_stress[:,0], old_stress_int, 'o', markersize='3', color='tab:blue', label = 'ACF ESPResSo', rasterized=True)\n",
    "    ax2.set_ylim(0, 1.5*old_visc[0])\n",
    "    \n",
    "    idx = np.searchsorted(old_stress[:,0], limit)\n",
    "    ax2.axhline(old_stress_int[idx], color='tab:red')\n",
    "    \n",
    "    ax3 = plt.subplot(133, rasterized=True)\n",
    "    ax3.semilogx(dpd_stress[:,0], dpd_stress_int, 'o', markersize='3', color='tab:blue', label = 'ACF ESPResSo', rasterized=True)\n",
    "    ax3.set_ylim(0, 1.5*dpd_visc[0])\n",
    "    \n",
    "    dpd_idx = 1\n",
    "    ax3.axhline(dpd_stress_int[dpd_idx], color='tab:red')\n",
    "    \n",
    "plt.tight_layout()\n",
    "#plt.savefig(\"acf_convergence.pdf\")"
   ]
  },
  {
   "cell_type": "code",
   "execution_count": null,
   "metadata": {},
   "outputs": [],
   "source": []
  }
 ],
 "metadata": {
  "kernelspec": {
   "display_name": "Python 3",
   "language": "python",
   "name": "python3"
  },
  "language_info": {
   "codemirror_mode": {
    "name": "ipython",
    "version": 3
   },
   "file_extension": ".py",
   "mimetype": "text/x-python",
   "name": "python",
   "nbconvert_exporter": "python",
   "pygments_lexer": "ipython3",
   "version": "3.7.9"
  }
 },
 "nbformat": 4,
 "nbformat_minor": 4
}
